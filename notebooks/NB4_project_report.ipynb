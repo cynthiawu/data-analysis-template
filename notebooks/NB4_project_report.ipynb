{
 "metadata": {
  "name": ""
 },
 "nbformat": 3,
 "nbformat_minor": 0,
 "worksheets": [
  {
   "cells": [
    {
     "cell_type": "markdown",
     "metadata": {},
     "source": [
      "In this notebook, you'll sumarize your finding for the class presentation. \n",
      "\n",
      "\n",
      "The class presentation will use this notebook in slide mode, as I do during lecture time.\n",
      "\n",
      "You'll need to download the following [zip file](https://github.com/fperez/nb-slideshow-template/archive/master.zip), unzip it, and run the following notebook <code>install-support.ipynb</code> to install the slide capabilities.\n",
      "\n",
      "The notebook <code>notebook-slideshow-example.ipynb</code> will give you examples on how to use slides within the iPython notebook.  \n",
      "\n",
      "You should also write this notebook so that you can convert it nicely into a pdf document using the commands\n",
      "\n",
      "    ipython nbconvert NB4_report.pynb --to latex\n",
      "    pdflatex NB4_report.tex\n",
      "    \n",
      "See [here](http://ipython.org/ipython-doc/rel-1.0.0/interactive/nbconvert.html) for further references on how to do that. \n",
      "\n",
      "In this notebook, you'll\n",
      "\n",
      "* describe your problem as stated in the propectus \n",
      " \n",
      " \n",
      "* comment on your data sources, on their format, on the difficulties to get them\n",
      "\n",
      "\n",
      "* present the main challenge you encountered\n",
      "\n",
      "\n",
      "* present your finding in the form of expresive graphics\n",
      "\n",
      "Be sure to include an introduction section motivating your visualizations, with a description of the substantive context and why it is interesting.\n",
      "\n",
      "\n",
      "Cite the source of the data and any other references that you used in carrying out your project.\n"
     ]
    },
    {
     "cell_type": "markdown",
     "metadata": {},
     "source": [
      "##Team members responsible for this notebook:\n",
      "\n",
      "List the team members contributing to this notebook, along with their responsabilities:\n",
      "\n",
      "* team member 1 **name**: team member 1 **responsabilities**\n",
      "* team member 2 **name**: team member 2 **responsabilities**\n",
      "* etc.\n",
      "\n",
      "I advise you to work at least in pairs for each project notebook, as you did for the homework assignments. Of course, all team members may participate to each notebook. "
     ]
    },
    {
     "cell_type": "heading",
     "level": 1,
     "metadata": {},
     "source": [
      "Topic"
     ]
    },
    {
     "cell_type": "markdown",
     "metadata": {},
     "source": [
      "With the rise of the importance of technology in the later part of the 20th century and onward, many new jobs have been created that fall under the category of the high-technology industry. Our team wanted to analyze the spillover effect of employment in high-technology industries over employment in other industries in the United States. We decided to look specifically at the industries of manufacturing and retail in order assess the spillover effect.<br /><br />\n",
      "In order to better understand this topic, some of our team members talked to Professor Moretti, an Economics professor at Cal. Besides presenting us with valuable information on how to approach our analysis, he also graciously provided us with a data set that he compiled for one of his earlier studies. This data set contained information about the number of people employed in certain industries in specific cities and states over the years of 1980, 1990, and 2000. He gathered his data from https://usa.ipums.org/usa/. <br /><br />In our project, the high-technology industries are defined to be those that work with computers and related equipment, computer and data processing services, engineering, architectural, and surveying services, and other similar jobs. We've defined the industry of manufacturing as related to the jobs of creating products such as furniture, plastic goods, and iron and steel foundries. The retail industry has been defined as including jobs such as those in department stores, shoe stores, and food stores.<br /><br />\n",
      "Some of the questions that we want to address in the project include: \n",
      "\n",
      "* How does high-technology sector employment affect other industries?\n",
      "\n",
      "* Which industry has experienced the highest influence from the growth in high-technology sector?\n",
      "\n",
      "* How does the spillover effect affect different states differently?\n",
      "<br /><br />\n",
      "\n",
      "In order to do the analysis, we utilized the concept of linear regression. "
     ]
    },
    {
     "cell_type": "heading",
     "level": 1,
     "metadata": {},
     "source": [
      "Challenges"
     ]
    },
    {
     "cell_type": "markdown",
     "metadata": {},
     "source": [
      "One of the initial difficulties we had was opening the raw dataset in R. Since the size of our original data set was too large, everytime we tried to load it in R, it would crash. We eventually loaded the dataset in Stata, and had to trim the data there first. Since none of us really knew how to use Stata, it was a challenge to learn the right techniques to execute the inital trimming of the data. "
     ]
    },
    {
     "cell_type": "heading",
     "level": 1,
     "metadata": {},
     "source": [
      "Presentation of Findings"
     ]
    }
   ],
   "metadata": {}
  }
 ]
}