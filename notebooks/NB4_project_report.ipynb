{
 "metadata": {
  "name": ""
 },
 "nbformat": 3,
 "nbformat_minor": 0,
 "worksheets": [
  {
   "cells": [
    {
     "cell_type": "markdown",
     "metadata": {},
     "source": [
      "In this notebook, you'll sumarize your finding for the class presentation. \n",
      "\n",
      "\n",
      "The class presentation will use this notebook in slide mode, as I do during lecture time.\n",
      "\n",
      "You'll need to download the following [zip file](https://github.com/fperez/nb-slideshow-template/archive/master.zip), unzip it, and run the following notebook <code>install-support.ipynb</code> to install the slide capabilities.\n",
      "\n",
      "The notebook <code>notebook-slideshow-example.ipynb</code> will give you examples on how to use slides within the iPython notebook.  \n",
      "\n",
      "You should also write this notebook so that you can convert it nicely into a pdf document using the commands\n",
      "\n",
      "    ipython nbconvert NB4_report.pynb --to latex\n",
      "    pdflatex NB4_report.tex\n",
      "    \n",
      "See [here](http://ipython.org/ipython-doc/rel-1.0.0/interactive/nbconvert.html) for further references on how to do that. \n",
      "\n",
      "In this notebook, you'll\n",
      "\n",
      "* describe your problem as stated in the propectus \n",
      " \n",
      " \n",
      "* comment on your data sources, on their format, on the difficulties to get them\n",
      "\n",
      "\n",
      "* present the main challenge you encountered\n",
      "\n",
      "\n",
      "* present your finding in the form of expresive graphics\n",
      "\n",
      "Be sure to include an introduction section motivating your visualizations, with a description of the substantive context and why it is interesting.\n",
      "\n",
      "\n",
      "Cite the source of the data and any other references that you used in carrying out your project.\n"
     ]
    },
    {
     "cell_type": "markdown",
     "metadata": {},
     "source": [
      "##Team members responsible for this notebook:\n",
      "\n",
      "List the team members contributing to this notebook, along with their responsabilities:\n",
      "\n",
      "* team member 1 **name**: team member 1 **responsabilities**\n",
      "* team member 2 **name**: team member 2 **responsabilities**\n",
      "* etc.\n",
      "\n",
      "I advise you to work at least in pairs for each project notebook, as you did for the homework assignments. Of course, all team members may participate to each notebook. "
     ]
    },
    {
     "cell_type": "heading",
     "level": 1,
     "metadata": {},
     "source": [
      "Topic"
     ]
    },
    {
     "cell_type": "markdown",
     "metadata": {},
     "source": [
      "With the rise of the importance of technology in the later part of the 20th century and onward, many new jobs have been created that fall under the category of the high-technology industry. Our team wanted to analyze the spillover effect of employment in high-technology industries over employment in other industries in the United States. We decided to look specifically at the industries of manufacturing and retail in order assess the spillover effect.<br /><br />To give a brief description of this topic, the technology spillover effect is how growth in the technology sector impacts employment levels in various other industries, such as manufacturing and retail.  The source of this impact may be attributed to the fact that increased technology may open up job opportunities in non-tech industries.  Growth in the technology industry may also negatively impact these industries by creating technology that can automate certain jobs and therefore make them obsolete.  Therefore, an increased amount of high-tech employment correlates with an increased amount of new technology which may either benefit or adversely affect the dependent industries.<br /><br />\n",
      "To learn even more about the technology spillover effect, some of our team members talked to Professor Moretti, an Economics professor at Cal who has done research and written articles on this topic. Besides presenting us with valuable information on how to approach our analysis, he also graciously provided us with a data set that he compiled for one of his earlier studies. This data set contained information about the number of people employed in certain industries in specific cities and states over the years of 1980, 1990, and 2000. He gathered his data from https://usa.ipums.org/usa/. <br /><br />In our project, the high-technology industries are defined to be those that work with computers and related equipment, computer and data processing services, engineering, architectural, and surveying services, and other similar jobs. We've defined the industry of manufacturing as related to the jobs of creating products such as furniture, plastic goods, and iron and steel foundries. The retail industry has been defined as including jobs such as those in department stores, shoe stores, and food stores.<br /><br />\n",
      "Some of the questions that we want to address in the project include: \n",
      "\n",
      "* How does high-technology sector employment affect other industries?\n",
      "\n",
      "* Which industry has experienced the highest influence from the growth in high-technology sector?\n",
      "\n",
      "* Does the spillover effect affect states differently?\n",
      "<br /><br />\n"
     ]
    },
    {
     "cell_type": "heading",
     "level": 1,
     "metadata": {},
     "source": [
      "Challenges"
     ]
    },
    {
     "cell_type": "markdown",
     "metadata": {},
     "source": [
      "One of the initial difficulties we had was opening the raw dataset in R. Since the size of our original data set was too large, everytime we tried to load it in R, it would crash. We tried several times to load the data in Stata and SQL, and even opened it in Excel, before eventually successfuly loading the dataset in Stata, and had to trim the data there first. Since none of us really knew how to use Stata, it was a challenge to learn the right techniques to execute the inital trimming of the data.<br /><br /> Another difficulty that we ran into was figuring out how to run the maps function to create graphs with our data. We had to run a regression for each state, but because each state had a different number of corresponding data points, we couldn't just write one for loop to run the regression on all the states. It didn't make sense to run the regression 50 times, so we had to find a different way to go about this process. We ran into some trouble writing the code to replace the names of the city with the corresponding state, since the maps function only takes in state names and not city names. It was also a challenge to write the for loops to run the regression on all the states. "
     ]
    },
    {
     "cell_type": "heading",
     "level": 1,
     "metadata": {},
     "source": [
      "Presentation of Findings"
     ]
    },
    {
     "cell_type": "markdown",
     "metadata": {},
     "source": [
      "Moreover, we also performed a separate regression so that we may visualize the regression results on a color-coded map of the US.  In order to perform the state regression, we had to first relabel the location column entries so that all the cities would be replaced with their corresponding states, so that we may focus on analyzing the differences in coefficients among the states rather than among the cities.\n",
      "\n",
      "After regressing the state data and visualizing the data using the US map, we discovered that there is a contrast between the hightech-manufacturing regression and the hightech-retail regression.  For the hightech-manufacturing regression, a majority of the states had regression coefficients that were negative, which indicates that increases in high-tech employment lead to a decrease in manufacturing employment.  On the other hand, a majority of the states in the hightech-retail regression had regression coefficients that were positive, which implies that increases in high-tech employment lead to an increase in retail employment.  This makes sense because an increase in high-tech employment naturally leads to more innovation in technology, with tech workers creating more new technologies that might automate jobs in the manufacturing sector and therefore make certain manufacturing jobs obsolete.  It also increases employment in the retail industry because new technology employers will increase the needs for other services like food.\n",
      "\n",
      "Based on these findings, we conclude that high-tech growth tends to curb employment in the manufacturing industry, while the same growth tends to spur employment growth in the retail industry.  This confirms our prediction that high-tech employment growth would adversely affect manufacturing employment while benefit retail employment."
     ]
    }
   ],
   "metadata": {}
  }
 ]
}