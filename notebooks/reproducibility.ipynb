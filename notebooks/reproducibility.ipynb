{
 "metadata": {
  "name": ""
 },
 "nbformat": 3,
 "nbformat_minor": 0,
 "worksheets": [
  {
   "cells": [
    {
     "cell_type": "markdown",
     "metadata": {},
     "source": [
      "##Team members responsible for this notebook:\n",
      "\n",
      "* Daniel Zezula"
     ]
    },
    {
     "cell_type": "heading",
     "level": 1,
     "metadata": {},
     "source": [
      "Software Requirements"
     ]
    },
    {
     "cell_type": "raw",
     "metadata": {},
     "source": [
      "R version of at least 3.0.0\n",
      "\n",
      "MATLAB needed to run the matlab script, code provided in scripts.\n",
      "\n",
      "To download required R packages, run\n",
      "\n",
      "Rscript requirements.R\n",
      "\n",
      "while in scripts directory."
     ]
    },
    {
     "cell_type": "heading",
     "level": 1,
     "metadata": {},
     "source": [
      "Reproducibility"
     ]
    },
    {
     "cell_type": "raw",
     "metadata": {},
     "source": [
      "As stated in the README:\n",
      "To reproduce the data (all scripts in /scripts on github):\n",
      "\n",
      "We cleaned the raw data in stata to get clean1.rda, cannot be reproduced in script. Too large to open in R.\n",
      "\n",
      "\n",
      "For the rest of the data run:\n",
      "\n",
      "Rscript clean_data.R #Will produce clean2.rda\n",
      "Rscript data2mat.R #will produce data.mat for matlab analysis\n",
      "\n",
      "\n",
      "Analysis:\n",
      "\n",
      "Rscript regression.R #produces linear regression graphs in /graphs, and corresponding data in /data/simulated\n",
      "Rscript regression_bystate.R #produces us map graphs of coefficients of linear regression in /graphs, and corresponding data in /data/simulated\n",
      "matlab -r matlab_plots.m #will produce graphs of percent growth in /graphs, and corresponding data in /data/simulated. This is assuming you have matlab."
     ]
    }
   ],
   "metadata": {}
  }
 ]
}