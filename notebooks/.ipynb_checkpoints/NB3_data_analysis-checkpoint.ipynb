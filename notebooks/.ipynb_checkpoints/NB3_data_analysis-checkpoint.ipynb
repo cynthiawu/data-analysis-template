{
 "metadata": {
  "name": ""
 },
 "nbformat": 3,
 "nbformat_minor": 0,
 "worksheets": [
  {
   "cells": [
    {
     "cell_type": "markdown",
     "metadata": {},
     "source": [
      "##Team members responsible for this notebook:\n",
      "\n",
      "List the team members contributing to this notebook, along with their responsabilities:\n",
      "\n",
      "* team member 1 **name**: team member 1 **responsabilities**\n",
      "* team member 2 **name**: team member 2 **responsabilities**\n",
      "* etc.\n",
      "\n",
      "I advise you to work at least in pairs for each project notebook, as you did for the homework assignments. Of course, all team members may participate to each notebook. "
     ]
    },
    {
     "cell_type": "markdown",
     "metadata": {},
     "source": [
      "In this notebook, you'll perform the actual analysis of the data stored in the directory\n",
      "\n",
      "    ./data/cleaned\n",
      "\n",
      "If the data is not ready yet (e.g. the other members of the team in charge of cleaning the data are not done yet), you may want to simulate cleaned data in the form you want them to be in order to perform the analysis. This may also help you data cleaning team to come up with the rigth data frame. \n",
      "If you choose to do so, store your simulated data into the directory\n",
      "\n",
      "    ./data/simulated\n",
      "    \n",
      "Having performed analysis of simulated data may help you with the analysis of the actual data, since you will be able to notice deviations between the real and simulated data, which may be worth explaining and investigating further.\n",
      "\n",
      "The graphics your going to produce as a result of your analysis should be store in the directory:\n",
      "\n",
      "\n",
      "    ./visualization\n",
      "\n"
     ]
    },
    {
     "cell_type": "code",
     "collapsed": false,
     "input": [
      "%load_ext rmagic"
     ],
     "language": "python",
     "metadata": {},
     "outputs": [],
     "prompt_number": 2
    },
    {
     "cell_type": "code",
     "collapsed": false,
     "input": [
      "%%R\n",
      "\n",
      "Hightech1980 <- subset(FinalData, year == 1980 & industry == \"Hightech\")\n",
      "Hightech1980[\"log_jobs\"] <- NA\n",
      "Hightech1980[,5] <- log(Hightech1980[,4])\n",
      "\n",
      "Manufacturing1980 <- subset(FinalData, year == 1980 & industry == \"Manufacturing\")\n",
      "Manufacturing1980[\"log_jobs\"] <- NA\n",
      "Manufacturing1980[,5] <- log(Manufacturing1980[,4])\n",
      "\n",
      "Retail1980 <- subset(FinalData, year == 1980 & industry == \"Retail\")\n",
      "Retail1980[\"log_jobs\"] <- NA\n",
      "Retail1980[,5] <- log(Retail1980[,4])\n",
      "\n",
      "Hightech1990 <- subset(FinalData, year == 1990 & industry == \"Hightech\")\n",
      "Hightech1990[\"log_jobs\"] <- NA\n",
      "Hightech1990[,5] <- log(Hightech1990[,4])\n",
      "\n",
      "Manufacturing1990 <- subset(FinalData, year == 1990 & industry == \"Manufacturing\")\n",
      "Manufacturing1990[\"log_jobs\"] <- NA\n",
      "Manufacturing1990[,5] <- log(Manufacturing1990[,4])\n",
      "\n",
      "Retail1990 <- subset(FinalData, year == 1990 & industry == \"Retail\")\n",
      "Retail1990[\"log_jobs\"] <- NA\n",
      "Retail1990[,5] <- log(Retail1990[,4])\n",
      "\n",
      "Hightech2000 <- subset(FinalData, year == 2000 & industry == \"Hightech\")\n",
      "Hightech2000[\"log_jobs\"] <- NA\n",
      "Hightech2000[,5] <- log(Hightech2000[,4])\n",
      "\n",
      "Manufacturing2000 <- subset(FinalData, year == 2000 & industry == \"Manufacturing\")\n",
      "Manufacturing2000[\"log_jobs\"] <- NA\n",
      "Manufacturing2000[,5] <- log(Manufacturing2000[,4])\n",
      "\n",
      "Retail2000 <- subset(FinalData, year == 2000 & industry == \"Retail\")\n",
      "Retail2000[\"log_jobs\"] <- NA\n",
      "Retail2000[,5] <- log(Retail2000[,4])"
     ],
     "language": "python",
     "metadata": {},
     "outputs": [],
     "prompt_number": 3
    },
    {
     "cell_type": "code",
     "collapsed": false,
     "input": [
      "%%R\n",
      "\n",
      "RegM1980 <- lm(Hightech1980[,4] ~ Manufacturing1980[,4])\n",
      "RegR1980 <- lm(Hightech1980[,4] ~ Retail1980[,4])\n",
      "RegM1990 <- lm(Hightech1990[,4] ~ Manufacturing1990[,4])\n",
      "RegR1990 <- lm(Hightech1990[,4] ~ Retail1990[,4])\n",
      "RegM2000 <- lm(Hightech2000[,4] ~ Manufacturing2000[,4])\n",
      "RegR2000 <- lm(Hightech2000[,4] ~ Retail2000[,4])\n",
      "\n",
      "plot(Hightech1980[,4], Manufacturing1980[,4], xlab = \"value of Hightech Employment\", ylab = \"value of Manufacturing Employment\", main = \"Regression of Manufacturing on Hightech Employment in 1980\")\n",
      "abline(RegM1980"
     ],
     "language": "python",
     "metadata": {},
     "outputs": []
    },
    {
     "cell_type": "code",
     "collapsed": false,
     "input": [
      "%%R\n",
      "\n",
      "LogRegM1980 <- lm(Hightech1980[,5] ~ Manufacturing1980[,5])\n",
      "LogRegR1980 <- lm(Hightech1980[,5] ~ Retail1980[,5])\n",
      "\n",
      "LogRegM1990 <- lm(Hightech1990[,5] ~ Manufacturing1990[,5])\n",
      "LogRegR1990 <- lm(Hightech1990[,5] ~ Retail1990[,5])\n",
      "\n",
      "LogRegM2000 <- lm(Hightech2000[,5] ~ Manufacturing2000[,5])\n",
      "LogRegR2000 <- lm(Hightech2000[,5] ~ Retail2000[,5])\n",
      "\n",
      "plot(Hightech1980[,5], Manufacturing1980[,5], xlab = \"log value of Hightech Employment\", ylab = \"log value of Manufacturing Employment\", main = \"Regression of Manufacturing on Hightech Employment in 1980\")\n",
      "abline(LogRegM1980)\n",
      "\n",
      "plot(Hightech1990[,5], Manufacturing1990[,5], xlab = \"log value of Hightech Employment\", ylab = \"log value of Manufacturing Employment\", main = \"Regression of Manufacturing on Hightech Employment in 1990\")\n",
      "abline(LogRegM1990)\n",
      "\n",
      "plot(Hightech2000[,5], Manufacturing2000[,5], xlab = \"log value of Hightech Employment\", ylab = \"log value of Manufacturing Employment\", main = \"Regression of Manufacturing on Hightech Employment in 2000\")\n",
      "abline(LogRegM2000)\n",
      "\n",
      "plot(Hightech1980[,5], Retail1980[,5], xlab = \"log value of Hightech Employment\", ylab = \"log value of Retail Employment\", main = \"Regression of Retail on Hightech Employment in 1980\")\n",
      "abline(LogRegR1980)\n",
      "\n",
      "plot(Hightech1990[,5], Retail1990[,5], xlab = \"log value of Hightech Employment\", ylab = \"log value of Retail Employment\", main = \"Regression of Retail on Hightech Employment in 1990\")\n",
      "abline(LogRegR1990)\n",
      "\n",
      "plot(Hightech2000[,5], Retail2000[,5], xlab = \"log value of Hightech Employment\", ylab = \"log value of Retail Employment\", main = \"Regression of Retail on Hightech Employment in 2000\")\n",
      "abline(LogRegR2000)\n",
      "\n"
     ],
     "language": "python",
     "metadata": {},
     "outputs": []
    }
   ],
   "metadata": {}
  }
 ]
}