{
 "metadata": {
  "name": ""
 },
 "nbformat": 3,
 "nbformat_minor": 0,
 "worksheets": [
  {
   "cells": [
    {
     "cell_type": "markdown",
     "metadata": {},
     "source": [
      "##Team members responsible for this notebook:\n",
      "\n",
      "* team member 1 **name**: team member 1 **responsabilities**\n",
      "* team member 2 **name**: team member 2 **responsabilities**\n",
      "* etc.\n"
     ]
    },
    {
     "cell_type": "heading",
     "level": 1,
     "metadata": {},
     "source": [
      "Data Analysis"
     ]
    },
    {
     "cell_type": "code",
     "collapsed": false,
     "input": [
      "%load_ext rmagic"
     ],
     "language": "python",
     "metadata": {},
     "outputs": []
    },
    {
     "cell_type": "heading",
     "level": 2,
     "metadata": {},
     "source": [
      "Subsetting the Data"
     ]
    },
    {
     "cell_type": "markdown",
     "metadata": {},
     "source": [
      "Before we perform the data analysis and visualization, we must subset the data into 6 different categories, one for each combination of job industry (Hightech and Manufacturing, or Hightech and Retail) and year (1980, 1990, and 2000).  This is so we may later run separate regressions on each specific combination of industry and year.  We also create a new column that contains log values of the employment numbers so we may run log regressions if linear regression is inadequate."
     ]
    },
    {
     "cell_type": "code",
     "collapsed": false,
     "input": [
      "%%R\n",
      "\n",
      "Hightech1980 <- subset(FinalData, year == 1980 & industry == \"Hightech\")\n",
      "Hightech1980[\"log_jobs\"] <- NA\n",
      "Hightech1980[,5] <- log(Hightech1980[,4])\n",
      "\n",
      "Manufacturing1980 <- subset(FinalData, year == 1980 & industry == \"Manufacturing\")\n",
      "Manufacturing1980[\"log_jobs\"] <- NA\n",
      "Manufacturing1980[,5] <- log(Manufacturing1980[,4])\n",
      "\n",
      "Retail1980 <- subset(FinalData, year == 1980 & industry == \"Retail\")\n",
      "Retail1980[\"log_jobs\"] <- NA\n",
      "Retail1980[,5] <- log(Retail1980[,4])\n",
      "\n",
      "Hightech1990 <- subset(FinalData, year == 1990 & industry == \"Hightech\")\n",
      "Hightech1990[\"log_jobs\"] <- NA\n",
      "Hightech1990[,5] <- log(Hightech1990[,4])\n",
      "\n",
      "Manufacturing1990 <- subset(FinalData, year == 1990 & industry == \"Manufacturing\")\n",
      "Manufacturing1990[\"log_jobs\"] <- NA\n",
      "Manufacturing1990[,5] <- log(Manufacturing1990[,4])\n",
      "\n",
      "Retail1990 <- subset(FinalData, year == 1990 & industry == \"Retail\")\n",
      "Retail1990[\"log_jobs\"] <- NA\n",
      "Retail1990[,5] <- log(Retail1990[,4])\n",
      "\n",
      "Hightech2000 <- subset(FinalData, year == 2000 & industry == \"Hightech\")\n",
      "Hightech2000[\"log_jobs\"] <- NA\n",
      "Hightech2000[,5] <- log(Hightech2000[,4])\n",
      "\n",
      "Manufacturing2000 <- subset(FinalData, year == 2000 & industry == \"Manufacturing\")\n",
      "Manufacturing2000[\"log_jobs\"] <- NA\n",
      "Manufacturing2000[,5] <- log(Manufacturing2000[,4])\n",
      "\n",
      "Retail2000 <- subset(FinalData, year == 2000 & industry == \"Retail\")\n",
      "Retail2000[\"log_jobs\"] <- NA\n",
      "Retail2000[,5] <- log(Retail2000[,4])"
     ],
     "language": "python",
     "metadata": {},
     "outputs": [],
     "prompt_number": 3
    },
    {
     "cell_type": "markdown",
     "metadata": {},
     "source": [
      "Then we run linear regressions on the 6 different subsets using lm.  The result gives the slope/coefficient and the intercept of each linear regression."
     ]
    },
    {
     "cell_type": "code",
     "collapsed": false,
     "input": [
      "%%R\n",
      "\n",
      "RegM1980 <- lm(Hightech1980[,4] ~ Manufacturing1980[,4])\n",
      "RegR1980 <- lm(Hightech1980[,4] ~ Retail1980[,4])\n",
      "RegM1990 <- lm(Hightech1990[,4] ~ Manufacturing1990[,4])\n",
      "RegR1990 <- lm(Hightech1990[,4] ~ Retail1990[,4])\n",
      "RegM2000 <- lm(Hightech2000[,4] ~ Manufacturing2000[,4])\n",
      "RegR2000 <- lm(Hightech2000[,4] ~ Retail2000[,4])"
     ],
     "language": "python",
     "metadata": {},
     "outputs": []
    },
    {
     "cell_type": "markdown",
     "metadata": {},
     "source": [
      "We use the default plot function to create scatter plots for each subset of the data, as well as run abline to create linear regression lines that run through the data points in the scatter plots.  The slope and intercept of each regression line was given using the lm function.  However, after making the scatter plots, we realize that outliers exist which create a considerable amount of spread in the data."
     ]
    },
    {
     "cell_type": "code",
     "collapsed": false,
     "input": [
      "%%R\n",
      "\n",
      "plot(Hightech1980[,4], Manufacturing1980[,4], xlab = \"value of Hightech Employment\", ylab = \"value of Manufacturing Employment\", main = \"Regression of Manufacturing on Hightech Employment in 1980\")\n",
      "abline(RegM1980"
     ],
     "language": "python",
     "metadata": {},
     "outputs": []
    },
    {
     "cell_type": "markdown",
     "metadata": {},
     "source": [
      "Therefore, we consider running a log regression in place of the linear regression in order to eliminate outliers and thus minimize the spread of the data.  This is done by running lm on the log-transformed values of the employment numbers."
     ]
    },
    {
     "cell_type": "code",
     "collapsed": false,
     "input": [
      "%%R\n",
      "\n",
      "LogRegM1980 <- lm(Hightech1980[,5] ~ Manufacturing1980[,5])\n",
      "LogRegR1980 <- lm(Hightech1980[,5] ~ Retail1980[,5])\n",
      "\n",
      "LogRegM1990 <- lm(Hightech1990[,5] ~ Manufacturing1990[,5])\n",
      "LogRegR1990 <- lm(Hightech1990[,5] ~ Retail1990[,5])\n",
      "\n",
      "LogRegM2000 <- lm(Hightech2000[,5] ~ Manufacturing2000[,5])\n",
      "LogRegR2000 <- lm(Hightech2000[,5] ~ Retail2000[,5])"
     ],
     "language": "python",
     "metadata": {},
     "outputs": []
    },
    {
     "cell_type": "markdown",
     "metadata": {},
     "source": [
      "We then run the scatter plot function on the log-transformed data which creates new scatter plots that contain less spread.  We also run abline again to create log regression lines to accurately represent the log regression, the values of which were given using lm."
     ]
    },
    {
     "cell_type": "code",
     "collapsed": false,
     "input": [
      "%%R\n",
      "\n",
      "plot(Hightech1980[,5], Manufacturing1980[,5], xlab = \"log value of Hightech Employment\", ylab = \"log value of Manufacturing Employment\", main = \"Regression of Manufacturing on Hightech Employment in 1980\")\n",
      "abline(LogRegM1980)\n",
      "\n",
      "plot(Hightech1990[,5], Manufacturing1990[,5], xlab = \"log value of Hightech Employment\", ylab = \"log value of Manufacturing Employment\", main = \"Regression of Manufacturing on Hightech Employment in 1990\")\n",
      "abline(LogRegM1990)\n",
      "\n",
      "plot(Hightech2000[,5], Manufacturing2000[,5], xlab = \"log value of Hightech Employment\", ylab = \"log value of Manufacturing Employment\", main = \"Regression of Manufacturing on Hightech Employment in 2000\")\n",
      "abline(LogRegM2000)\n",
      "\n",
      "plot(Hightech1980[,5], Retail1980[,5], xlab = \"log value of Hightech Employment\", ylab = \"log value of Retail Employment\", main = \"Regression of Retail on Hightech Employment in 1980\")\n",
      "abline(LogRegR1980)\n",
      "\n",
      "plot(Hightech1990[,5], Retail1990[,5], xlab = \"log value of Hightech Employment\", ylab = \"log value of Retail Employment\", main = \"Regression of Retail on Hightech Employment in 1990\")\n",
      "abline(LogRegR1990)\n",
      "\n",
      "plot(Hightech2000[,5], Retail2000[,5], xlab = \"log value of Hightech Employment\", ylab = \"log value of Retail Employment\", main = \"Regression of Retail on Hightech Employment in 2000\")\n",
      "abline(LogRegR2000)"
     ],
     "language": "python",
     "metadata": {},
     "outputs": []
    }
   ],
   "metadata": {}
  }
 ]
}