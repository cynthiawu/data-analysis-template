{
 "metadata": {
  "name": ""
 },
 "nbformat": 3,
 "nbformat_minor": 0,
 "worksheets": [
  {
   "cells": [
    {
     "cell_type": "markdown",
     "metadata": {},
     "source": [
      "In this notebook, you'll\n",
      "\n",
      "* **load the raw data into R or Pandas dataframe** from the <code>./data/raw</code> directory using the functions and classes (written during the data gathering phase) in the <code>./script</code> directory\n",
      "\n",
      "\n",
      "* **perform visual exploration** on your data variables to detect anomalies, errors, outliers, interesting features etc.\n",
      "\n",
      "\n",
      "\n",
      "* **clean categorical and quantitative variables** (by removing observations and variables with too many missing values, by consolidating categorical variables, by selecting an appropriate subset of variables and observations for later analysis, etc.)\n",
      "\n",
      "\n",
      "* **save the cleaned data** into csv files in the <code>./data/cleaned</code> directory\n",
      "\n",
      "\n",
      "* **save interesting graphics** you obtained during visual exploration into the <code>./visualiation</code> directory"
     ]
    },
    {
     "cell_type": "markdown",
     "metadata": {},
     "source": [
      "##Team members responsible for this notebook:\n",
      "\n",
      "List the team members contributing to this notebook, along with their responsabilities:\n",
      "\n",
      "* team member 1 **name**: team member 1 **responsabilities**\n",
      "* team member 2 **name**: team member 2 **responsabilities**\n",
      "* etc.\n",
      "\n",
      "I advise you to work at least in pairs for each project notebook, as you did for the homework assignments. Of course, all team members may participate to each notebook. "
     ]
    },
    {
     "cell_type": "code",
     "collapsed": false,
     "input": [
      "%load_ext rmagic"
     ],
     "language": "python",
     "metadata": {},
     "outputs": [],
     "prompt_number": 2
    },
    {
     "cell_type": "heading",
     "level": 1,
     "metadata": {},
     "source": [
      "Project"
     ]
    },
    {
     "cell_type": "code",
     "collapsed": false,
     "input": [
      "%%R\n",
      "\n",
      "library(foreign)\n",
      "IndData <- readRDS(\"/home/oski/data-analysis-template/data/cleaned/clean1.rda\")\n",
      "IndData <- subset(IndData, select=c(\"year\", \"msa\", \"ind1990\", \"jobs\"))\n",
      "NoEduData <- aggregate(cbind(IndData[,4]) ~ IndData[,1] + IndData[,2] + IndData[,3], FUN = sum)\n",
      "colnames(NoEduData) <- c(\"year\", \"place\", \"ind1990\", \"jobs\")\n",
      "\n",
      "print(head(NoEduData))"
     ],
     "language": "python",
     "metadata": {},
     "outputs": [
      {
       "metadata": {},
       "output_type": "display_data",
       "text": [
        "  year       place       ind1990 jobs\n",
        "1 1980 Abilene, TX Meat products  220\n",
        "2 1990 Abilene, TX Meat products  322\n",
        "3 2000 Abilene, TX Meat products   48\n",
        "4 1980   Akron, OH Meat products  140\n",
        "5 1990   Akron, OH Meat products   65\n",
        "6 2000   Akron, OH Meat products   84\n"
       ]
      }
     ],
     "prompt_number": 3
    },
    {
     "cell_type": "markdown",
     "metadata": {},
     "source": [
      "We created 3 level attributes: \u201cManufacturing\u201d, \u201cRetail\u201d, \u201cHightech\u201d, and \u201cbad data\u201d. We assigned the variables in \u201cmanu\u201d with level \u201cManufacturing\u201d, variables in \u201cretail\u201d with level \u201cRetail\u201d, variables in \u201chightech\u201d with level \u201cHightech\u201d and else with \u201cbad data\u201d. \n",
      "Then, we dropped the values in level \u201cbad data\u201d and what was left are the data we will be doing the regression analysis with."
     ]
    },
    {
     "cell_type": "code",
     "collapsed": false,
     "input": [],
     "language": "python",
     "metadata": {},
     "outputs": []
    }
   ],
   "metadata": {}
  }
 ]
}