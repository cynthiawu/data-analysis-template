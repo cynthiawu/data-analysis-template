{
 "metadata": {
  "name": ""
 },
 "nbformat": 3,
 "nbformat_minor": 0,
 "worksheets": [
  {
   "cells": [
    {
     "cell_type": "markdown",
     "metadata": {},
     "source": [
      "In this notebook, you'll\n",
      "\n",
      "* **load the raw data into R or Pandas dataframe** from the <code>./data/raw</code> directory using the functions and classes (written during the data gathering phase) in the <code>./script</code> directory\n",
      "\n",
      "\n",
      "* **perform visual exploration** on your data variables to detect anomalies, errors, outliers, interesting features etc.\n",
      "\n",
      "\n",
      "\n",
      "* **clean categorical and quantitative variables** (by removing observations and variables with too many missing values, by consolidating categorical variables, by selecting an appropriate subset of variables and observations for later analysis, etc.)\n",
      "\n",
      "\n",
      "* **save the cleaned data** into csv files in the <code>./data/cleaned</code> directory\n",
      "\n",
      "\n",
      "* **save interesting graphics** you obtained during visual exploration into the <code>./visualiation</code> directory"
     ]
    },
    {
     "cell_type": "markdown",
     "metadata": {},
     "source": [
      "##Team members responsible for this notebook:\n",
      "\n",
      "List the team members contributing to this notebook, along with their responsabilities:\n",
      "\n",
      "* team member 1 **name**: team member 1 **responsabilities**\n",
      "* team member 2 **name**: team member 2 **responsabilities**\n",
      "* etc.\n",
      "\n",
      "I advise you to work at least in pairs for each project notebook, as you did for the homework assignments. Of course, all team members may participate to each notebook. "
     ]
    },
    {
     "cell_type": "code",
     "collapsed": false,
     "input": [
      "%load_ext rmagic"
     ],
     "language": "python",
     "metadata": {},
     "outputs": [],
     "prompt_number": 2
    },
    {
     "cell_type": "heading",
     "level": 1,
     "metadata": {},
     "source": [
      "Project"
     ]
    },
    {
     "cell_type": "markdown",
     "metadata": {},
     "source": [
      "After trimming the data in Stata, the set of data was small enough to open in R.<br /><br />The number of people working in each industry has been separated into four different levels of education, but since education is not a relevant factor for our project, the first step we took in cleaning the data is to aggregrate the levels of education to produce a total number of people working in each industry."
     ]
    },
    {
     "cell_type": "markdown",
     "metadata": {},
     "source": [
      "We created 3 level attributes: \u201cManufacturing\u201d, \u201cRetail\u201d, \u201cHightech\u201d, and \u201cbad data\u201d. We assigned the variables in \u201cmanu\u201d with level \u201cManufacturing\u201d, variables in \u201cretail\u201d with level \u201cRetail\u201d, variables in \u201chightech\u201d with level \u201cHightech\u201d and else with \u201cbad data\u201d. \n",
      "Then, we dropped the values in level \u201cbad data\u201d and what was left are the data we will be doing the regression analysis with."
     ]
    },
    {
     "cell_type": "code",
     "collapsed": false,
     "input": [
      "%%R\n",
      "\n",
      "library(foreign)\n",
      "IndData = read.dta(paste(getwd(),'/../','data/raw/industrydata.dta',sep=''))\n",
      "edudata <- aggregate(cbind(IndData$jobs) ~ IndData$year + IndData$msa + IndData$ind1990, FUN = sum)\n",
      "colnames(edudata) <- c(\"year\", \"msa\", \"ind1990\", \"jobs\")\n",
      "      \n",
      "print(head(edudata))\n",
      "\n",
      "manu = c(\"Meat products\",\"Food industries, n.s.\",\"Apparel and accessories, except knit\",\"Pulp, paper, and paperboard mills\",\"Soaps and cosmetics\",\"Miscellaneous plastics products\",\"Footwear, except rubber and plastic\",\"Furniture and fixtures\",\"Iron and steel foundries\")\n",
      "retail = c(\"Department stores\",\"Food stores, n.e.c.\",\"Apparel and accessory stores, except shoe\",\"Shoe stores\",\"Furniture and home furnishings stores\",\"Eating and drinking places\",\"Book and stationery stores\",\"Jewelry stores\")\n",
      "hightech = c(\"Computers and related equipment\",\"Machinery, except electrical, n.e.c.\",\"Radio, TV, and communication equipment\",\"Electrical machinery, equipment, and supplies, n.e.c.\",\"Aircraft and parts\",\"Computer and data processing services\",\"Computer and data processing services\",\"Engineering, architectural, and surveying services\",\"Machinery, n.s.\",\"Motor vehicles and motor vehicle equipment\")\n",
      "\n",
      "lev = levels(edudata$ind1990)\n",
      "\n",
      "for (i in 1:length(lev)) {\n",
      "  if (lev[i] %in% manu) {\n",
      "    lev[i] <- \"Manufacturing\"\n",
      "  }\n",
      "  else if (lev[i] %in% retail) {\n",
      "    lev[i] <- \"Retail\"\n",
      "  }\n",
      "  else if (lev[i] %in% hightech) {\n",
      "    lev[i] <- \"Hightech\"\n",
      "  }\n",
      "  else {\n",
      "    lev[i] <- \"bad data\"\n",
      "  }\n",
      "}\n",
      "levels(edudata$ind1990) <- lev\n",
      "\n",
      "dataclean = edudata[as.character(edudata$ind1990) != \"bad data\",]\n",
      "data <- aggregate(cbind(dataclean$jobs) ~ dataclean$year + dataclean$msa + dataclean$ind1990, FUN = sum)\n",
      "colnames(data) <- c(\"year\", \"msa\", \"ind1990\", \"jobs\")\n",
      "\n",
      "FinalData <- aggregate(cbind(data[,4]) ~ data[,1] + data[,2] + data[,3], FUN = sum)\n",
      "\n",
      "colnames(FinalData) <- c(\"year\", \"place\", \"industry\", \"jobs\")\n",
      "\n",
      "print(head(FinalData))"
     ],
     "language": "python",
     "metadata": {},
     "outputs": [
      {
       "metadata": {},
       "output_type": "display_data",
       "text": [
        "  year         msa       ind1990 jobs\n",
        "1 1980 Abilene, TX Meat products  220\n",
        "2 1990 Abilene, TX Meat products  322\n",
        "3 2000 Abilene, TX Meat products   48\n",
        "4 1980   Akron, OH Meat products  140\n",
        "5 1990   Akron, OH Meat products   65\n",
        "6 2000   Akron, OH Meat products   84\n",
        "  year       place      industry  jobs\n",
        "1 1980 Abilene, TX Manufacturing   440\n",
        "2 1990 Abilene, TX Manufacturing   740\n",
        "3 2000 Abilene, TX Manufacturing   214\n",
        "4 1980   Akron, OH Manufacturing 11560\n",
        "5 1990   Akron, OH Manufacturing  7673\n",
        "6 2000   Akron, OH Manufacturing 10566\n"
       ]
      }
     ],
     "prompt_number": 31
    },
    {
     "cell_type": "code",
     "collapsed": false,
     "input": [],
     "language": "python",
     "metadata": {},
     "outputs": []
    }
   ],
   "metadata": {}
  }
 ]
}