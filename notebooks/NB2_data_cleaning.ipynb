{
 "metadata": {
  "name": ""
 },
 "nbformat": 3,
 "nbformat_minor": 0,
 "worksheets": [
  {
   "cells": [
    {
     "cell_type": "markdown",
     "metadata": {},
     "source": [
      "In this notebook, you'll\n",
      "\n",
      "* **load the raw data into R or Pandas dataframe** from the <code>./data/raw</code> directory using the functions and classes (written during the data gathering phase) in the <code>./script</code> directory\n",
      "\n",
      "\n",
      "* **perform visual exploration** on your data variables to detect anomalies, errors, outliers, interesting features etc.\n",
      "\n",
      "\n",
      "\n",
      "* **clean categorical and quantitative variables** (by removing observations and variables with too many missing values, by consolidating categorical variables, by selecting an appropriate subset of variables and observations for later analysis, etc.)\n",
      "\n",
      "\n",
      "* **save the cleaned data** into csv files in the <code>./data/cleaned</code> directory\n",
      "\n",
      "\n",
      "* **save interesting graphics** you obtained during visual exploration into the <code>./visualiation</code> directory"
     ]
    },
    {
     "cell_type": "markdown",
     "metadata": {},
     "source": [
      "##Team members responsible for this notebook:\n",
      "\n",
      "List the team members contributing to this notebook, along with their responsabilities:\n",
      "\n",
      "* team member 1**Daniel Zezula**: team member 1 ** cleaned data**\n",
      "\n",
      "* team member 2 **Biying Li**: team member 2 ** cleaned data **\n",
      "\n",
      "* team member 3 **Tiffany Wong**: team member 3 ** helped with cleaning and wrote markdown**\n",
      "\n",
      "* team member 4**Tim Yau**: team member 4 ** helped with cleaning wrote markdown **\n",
      "\n",
      "* team member 5 **Tianyi Wu**: team member 5 **helped with cleaning and wrote markdown**"
     ]
    },
    {
     "cell_type": "code",
     "collapsed": false,
     "input": [
      "%load_ext rmagic"
     ],
     "language": "python",
     "metadata": {},
     "outputs": [
      {
       "output_type": "stream",
       "stream": "stdout",
       "text": [
        "The rmagic extension is already loaded. To reload it, use:\n",
        "  %reload_ext rmagic\n"
       ]
      }
     ],
     "prompt_number": 4
    },
    {
     "cell_type": "heading",
     "level": 1,
     "metadata": {},
     "source": [
      "Project"
     ]
    },
    {
     "cell_type": "markdown",
     "metadata": {},
     "source": [
      "After trimming the data in Stata, the set of data was small enough to open in R.<br /><br />The number of people working in each industry has been separated into four different levels of education, but since education is not a relevant factor for our project, the first step we took in cleaning the data is to aggregrate the levels of education to produce a total number of people working in each industry. <br /><br />To do this, we took the following steps: \n",
      "\n",
      "* We first deleted the column with the education levels by only creating a subset of the data that did not include the education column\n",
      "\n",
      "* After deleting that column, we were left with several rows that had the same information, so using the aggregate function, we combined those to give the total number of people employed in each industry \n"
     ]
    },
    {
     "cell_type": "markdown",
     "metadata": {},
     "source": [
      "We first decided on \"manufacturing\" and \"retail\" as the industries that we wanted to analyze the tech spillover in. To do this, we went through the data and classified each job as either \"manufacturing\", \"retail\", \"hightech\", or irrelevant to our research (\"bad data\"). We created 4 level attributes: \u201cManufacturing\u201d, \u201cRetail\u201d, \u201cHightech\u201d, and \u201cbad data\u201d. We assigned the variables in \u201cmanu\u201d with level \u201cManufacturing\u201d, variables in \u201cretail\u201d with level \u201cRetail\u201d, variables in \u201chightech\u201d with level \u201cHightech\u201d and else with \u201cbad data\u201d.<br /><br />\n",
      "Afterwards, we dropped the values with level = \u201cbad data\", and the data left is what we will be doing the regression analysis with."
     ]
    },
    {
     "cell_type": "code",
     "collapsed": false,
     "input": [
      "%%R\n",
      "\n",
      "library(foreign)\n",
      "IndData = read.dta(paste(getwd(),'/../','data/raw/industrydata.dta',sep=''))\n",
      "IndData <- subset(IndData, select=c(\"year\", \"msa\", \"ind1990\", \"jobs\"))\n",
      "edudata <- aggregate(cbind(IndData$jobs) ~ IndData$year + IndData$msa + IndData$ind1990, FUN = sum)\n",
      "colnames(edudata) <- c(\"year\", \"msa\", \"ind1990\", \"jobs\")\n",
      "      \n",
      "print(head(edudata))\n",
      "\n",
      "manu = c(\"Meat products\",\"Food industries, n.s.\",\"Apparel and accessories, except knit\",\"Pulp, paper, and paperboard mills\",\"Soaps and cosmetics\",\"Miscellaneous plastics products\",\"Footwear, except rubber and plastic\",\"Furniture and fixtures\",\"Iron and steel foundries\")\n",
      "retail = c(\"Department stores\",\"Food stores, n.e.c.\",\"Apparel and accessory stores, except shoe\",\"Shoe stores\",\"Furniture and home furnishings stores\",\"Eating and drinking places\",\"Book and stationery stores\",\"Jewelry stores\")\n",
      "hightech = c(\"Computers and related equipment\",\"Machinery, except electrical, n.e.c.\",\"Radio, TV, and communication equipment\",\"Electrical machinery, equipment, and supplies, n.e.c.\",\"Aircraft and parts\",\"Computer and data processing services\",\"Computer and data processing services\",\"Engineering, architectural, and surveying services\",\"Machinery, n.s.\",\"Motor vehicles and motor vehicle equipment\")\n",
      "\n",
      "lev = levels(edudata$ind1990)\n",
      "\n",
      "for (i in 1:length(lev)) {\n",
      "  if (lev[i] %in% manu) {\n",
      "    lev[i] <- \"Manufacturing\"\n",
      "  }\n",
      "  else if (lev[i] %in% retail) {\n",
      "    lev[i] <- \"Retail\"\n",
      "  }\n",
      "  else if (lev[i] %in% hightech) {\n",
      "    lev[i] <- \"Hightech\"\n",
      "  }\n",
      "  else {\n",
      "    lev[i] <- \"bad data\"\n",
      "  }\n",
      "}\n",
      "levels(edudata$ind1990) <- lev\n",
      "\n",
      "dataclean = edudata[as.character(edudata$ind1990) != \"bad data\",]\n",
      "data <- aggregate(cbind(dataclean$jobs) ~ dataclean$year + dataclean$msa + dataclean$ind1990, FUN = sum)\n",
      "colnames(data) <- c(\"year\", \"msa\", \"ind1990\", \"jobs\")\n",
      "\n",
      "FinalData <- aggregate(cbind(data[,4]) ~ data[,1] + data[,2] + data[,3], FUN = sum)\n",
      "\n",
      "colnames(FinalData) <- c(\"year\", \"place\", \"industry\", \"jobs\")\n",
      "\n",
      "saveRDS(FinalData, file=paste(getwd(), '/../', 'data/cleaned/FinalData.rda', sep=\"\"))\n",
      "print(head(FinalData))"
     ],
     "language": "python",
     "metadata": {},
     "outputs": [
      {
       "metadata": {},
       "output_type": "display_data",
       "text": [
        "  year         msa       ind1990 jobs\n",
        "1 1980 Abilene, TX Meat products  220\n",
        "2 1990 Abilene, TX Meat products  322\n",
        "3 2000 Abilene, TX Meat products   48\n",
        "4 1980   Akron, OH Meat products  140\n",
        "5 1990   Akron, OH Meat products   65\n",
        "6 2000   Akron, OH Meat products   84\n",
        "  year       place      industry  jobs\n",
        "1 1980 Abilene, TX Manufacturing   440\n",
        "2 1990 Abilene, TX Manufacturing   740\n",
        "3 2000 Abilene, TX Manufacturing   214\n",
        "4 1980   Akron, OH Manufacturing 11560\n",
        "5 1990   Akron, OH Manufacturing  7673\n",
        "6 2000   Akron, OH Manufacturing 10566\n"
       ]
      }
     ],
     "prompt_number": 5
    },
    {
     "cell_type": "markdown",
     "metadata": {},
     "source": [
      "The first output above is a sample of our data with the aggregated education levels. It shows the number of people employed for each job in a certain state for the years 1980, 1990, and 2000.<br /><br />The second output shows a sample of our data after we've dropped all the irrelevant jobs and classified all the other jobs as either \"manufacturing\", \"retail\", or \"hightech\". It shows the total number of people employed in the manufacturing, retail, and hightech industries in a certain state in the years 1980, 1990, and 2000. "
     ]
    }
   ],
   "metadata": {}
  }
 ]
}